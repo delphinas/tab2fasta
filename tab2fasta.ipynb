{
 "cells": [
  {
   "cell_type": "code",
   "execution_count": 261,
   "metadata": {},
   "outputs": [],
   "source": [
    "import pandas as pd\n",
    "import sys\n",
    "\n",
    "# define filename and columns\n",
    "my_file = 'bpps.xlsx'\n",
    "name_col = 'Peptide'\n",
    "seq_col = 'Sequence' \n",
    "output_filename = 'output.fa'\n",
    "\n",
    "# Loading the xlsx file\n",
    "sequence_list = pd.read_excel(my_file, index_col=None) \n",
    "# Converting column to a list\n",
    "mylist_names = sequence_list[name_col].tolist()\n",
    "mylist = sequence_list[seq_col].tolist()\n",
    "\n",
    "# writing file opening\n",
    "orig_stdout = sys.stdout\n",
    "f = open(output_filename, 'w')\n",
    "sys.stdout = f\n",
    "\n",
    "# iterating through the variables\n",
    "for line, i in zip(mylist, mylist_names):\n",
    "    line = line.strip().split(',')\n",
    "    header = '>' + '_' + i\n",
    "    print(header)\n",
    "    print(*line, sep='\\n')\n",
    "\n",
    "#writing and closing the file\n",
    "sys.stdout = orig_stdout\n",
    "f.close()\n",
    "\n"
   ]
  },
  {
   "cell_type": "code",
   "execution_count": null,
   "metadata": {},
   "outputs": [],
   "source": []
  }
 ],
 "metadata": {
  "kernelspec": {
   "display_name": "Python [conda env:python3]",
   "language": "python",
   "name": "conda-env-python3-py"
  },
  "language_info": {
   "codemirror_mode": {
    "name": "ipython",
    "version": 3
   },
   "file_extension": ".py",
   "mimetype": "text/x-python",
   "name": "python",
   "nbconvert_exporter": "python",
   "pygments_lexer": "ipython3",
   "version": "3.7.6"
  }
 },
 "nbformat": 4,
 "nbformat_minor": 2
}
